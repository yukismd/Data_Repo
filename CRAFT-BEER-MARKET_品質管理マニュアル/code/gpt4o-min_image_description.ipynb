{
 "cells": [
  {
   "cell_type": "code",
   "execution_count": null,
   "id": "169de275-939b-4a39-8991-5191bf3c66bc",
   "metadata": {},
   "outputs": [],
   "source": []
  },
  {
   "cell_type": "code",
   "execution_count": 1,
   "id": "f0186ceb-41a1-4eb6-a2d4-93d9c9243eda",
   "metadata": {},
   "outputs": [],
   "source": [
    "import os\n",
    "from dotenv import load_dotenv\n",
    "import base64\n",
    "import re\n",
    "import json\n",
    "\n",
    "import openai\n",
    "from openai import OpenAI"
   ]
  },
  {
   "cell_type": "code",
   "execution_count": 4,
   "id": "037e1e6a-a7b6-4da8-a64e-4dedb04df7f8",
   "metadata": {},
   "outputs": [
    {
     "name": "stdout",
     "output_type": "stream",
     "text": [
      "Aカプラー.png                         Sカプラー.png\n",
      "Dカプラー.png                         UKパイント.png\n",
      "FROW_CONTROL_FAUCET.png               USパイント.png\n",
      "Gカプラー.png                         ヴァイツェングラス.png\n",
      "KEY-KEGカプラー.png                   グラグラ.png\n",
      "STNDARD_FAUCET.png                    足付き.png\n",
      "STOUT_FAUCET.png\n"
     ]
    }
   ],
   "source": [
    "!ls ../images"
   ]
  },
  {
   "cell_type": "code",
   "execution_count": 6,
   "id": "30f0373a-0e3d-451c-a3fc-1002b6daf2e9",
   "metadata": {},
   "outputs": [],
   "source": [
    "image_dir = '../images'\n",
    "img_grass = ['グラグラ.png', '足付き.png', 'USパイント.png', 'UKパイント.png', 'ヴァイツェングラス.png']\n",
    "img_kap = ['Sカプラー.png', 'Dカプラー.png', 'Gカプラー.png', 'KEY-KEGカプラー.png', 'Aカプラー.png']\n",
    "img_faucet = ['STNDARD_FAUCET.png', 'FROW_CONTROL_FAUCET.png', 'STOUT_FAUCET.png']"
   ]
  },
  {
   "cell_type": "code",
   "execution_count": 7,
   "id": "cd5ad0df-9141-457f-90e7-5dd3af660380",
   "metadata": {},
   "outputs": [
    {
     "data": {
      "text/plain": [
       "<openai.OpenAI at 0x112bc9de0>"
      ]
     },
     "execution_count": 7,
     "metadata": {},
     "output_type": "execute_result"
    }
   ],
   "source": [
    "load_dotenv('.env')\n",
    "\n",
    "client = OpenAI(api_key=os.getenv('openai-key-20241027'))\n",
    "client"
   ]
  },
  {
   "cell_type": "code",
   "execution_count": 13,
   "id": "7a435759-8e64-4973-b0e5-cedcef39675f",
   "metadata": {},
   "outputs": [
    {
     "name": "stdout",
     "output_type": "stream",
     "text": [
      ">>>>>  ../images/グラグラ.png\n",
      "このグラスは、スリムなデザインで、高さがあり、底が広く、上に向かって少し狭まる形状をしています。透明なガラス素材で作られ、内側にビールやドリンクが注がれることを想定しています。正面には「CRAFT BEER MARKET」のロゴが描かれた青いラベルが貼られています。シンプルでありながらスタイリッシュな印象を与えるグラスです。\n"
     ]
    }
   ],
   "source": [
    "# Test\n",
    "\n",
    "img = image_dir + '/' + 'グラグラ.png'\n",
    "\n",
    "vision_model = \"gpt-4o-mini\"\n",
    "\n",
    "prompt = '''\n",
    "グラス画像が入力されます。写っているグラスの形状を80トークン程度で詳しく述べてください。\n",
    "'''\n",
    "\n",
    "# Function to encode the image\n",
    "def encode_image(image_path):\n",
    "    with open(image_path, \"rb\") as image_file:\n",
    "        return base64.b64encode(image_file.read()).decode(\"utf-8\")\n",
    "\n",
    "\n",
    "print('>>>>> ', img)\n",
    "    \n",
    "# Path to your image\n",
    "image_path = os.path.join(image_dir, img)\n",
    "    \n",
    "# Getting the base64 string\n",
    "base64_image = encode_image(image_path)\n",
    "#print(type(base64_image), len(base64_image))\n",
    "\n",
    "response = client.chat.completions.create(\n",
    "    model=vision_model,\n",
    "    messages=[\n",
    "        {\n",
    "            \"role\": \"user\",\n",
    "            \"content\": [\n",
    "                {\n",
    "                    \"type\": \"text\",\n",
    "                    \"text\": prompt,\n",
    "                },\n",
    "                {\n",
    "                    \"type\": \"image_url\",\n",
    "                    \"image_url\": {\"url\": f\"data:image/jpeg;base64,{base64_image}\"},\n",
    "                },\n",
    "            ],\n",
    "        }\n",
    "    ],\n",
    ")\n",
    "print(response.choices[0].message.content)"
   ]
  },
  {
   "cell_type": "markdown",
   "id": "1c09f563-c8a3-4678-bb41-e3fab65c8b67",
   "metadata": {},
   "source": [
    "### グラス"
   ]
  },
  {
   "cell_type": "code",
   "execution_count": 14,
   "id": "7730c50a-c49d-4d31-a02a-0ce98e220c1c",
   "metadata": {},
   "outputs": [
    {
     "name": "stdout",
     "output_type": "stream",
     "text": [
      ">>>>>  ../images/グラグラ.png\n",
      ">>>>>  ../images/足付き.png\n",
      ">>>>>  ../images/USパイント.png\n",
      ">>>>>  ../images/UKパイント.png\n",
      ">>>>>  ../images/ヴァイツェングラス.png\n",
      "CPU times: user 67.1 ms, sys: 16.5 ms, total: 83.6 ms\n",
      "Wall time: 36.2 s\n"
     ]
    }
   ],
   "source": [
    "%%time\n",
    "\n",
    "responses_grass = {}\n",
    "\n",
    "vision_model = \"gpt-4o-mini\"\n",
    "\n",
    "prompt = '''\n",
    "グラス画像が入力されます。写っているグラスの形状を80トークン程度で詳しく述べてください。\n",
    "'''\n",
    "\n",
    "# Function to encode the image\n",
    "def encode_image(image_path):\n",
    "    with open(image_path, \"rb\") as image_file:\n",
    "        return base64.b64encode(image_file.read()).decode(\"utf-8\")\n",
    "\n",
    "for img in img_grass:\n",
    "    img = image_dir + '/' + img\n",
    "    print('>>>>> ', img)\n",
    "    \n",
    "    # Path to your image\n",
    "    image_path = os.path.join(image_dir, img)\n",
    "    \n",
    "    # Getting the base64 string\n",
    "    base64_image = encode_image(image_path)\n",
    "    #print(type(base64_image), len(base64_image))\n",
    "\n",
    "    response = client.chat.completions.create(\n",
    "        model=vision_model,\n",
    "        messages=[\n",
    "            {\n",
    "                \"role\": \"user\",\n",
    "                \"content\": [\n",
    "                    {\n",
    "                        \"type\": \"text\",\n",
    "                        \"text\": prompt,\n",
    "                    },\n",
    "                    {\n",
    "                        \"type\": \"image_url\",\n",
    "                        \"image_url\": {\"url\": f\"data:image/jpeg;base64,{base64_image}\"},\n",
    "                    },\n",
    "                ],\n",
    "            }\n",
    "        ],\n",
    "    )\n",
    "    responses_grass[img] = response.choices[0].message.content\n",
    "    #print(responses[img])"
   ]
  },
  {
   "cell_type": "code",
   "execution_count": 15,
   "id": "f6d7739a-1744-4c14-ae23-4f275cb85730",
   "metadata": {},
   "outputs": [
    {
     "data": {
      "text/plain": [
       "{'../images/グラグラ.png': 'このグラスは、細長くスリムなデザインで、透明なガラス素材でできています。上部は広がっておらず、ストレートな形状が特徴です。底部はしっかりした円形で安定感があります。ガラスの中ほどにはロゴが印刷されており、全体的にシンプルでありながら上品な印象を与えます。特にビールを注ぐために適しているように見えます。',\n",
       " '../images/足付き.png': 'このグラスは、足付きのデザインが特徴的で、上部が広がったシルエットを持っています。グラスの底はしっかりとした円形の台座に固定されており、高さがありながらも安定感があります。グラスの側面は滑らかで透明感があり、飲み物の色を美しく引き立てます。全体的に洗練された印象を与え、特にビールやカクテルに適しています。',\n",
       " '../images/USパイント.png': '画像に写っているグラスは、透明なガラス製のUSパイントグラスです。形状は円筒形で直線的なデザインが特徴で、上部が広がっているものの、全体的にスリムな印象を与えます。底部はしっかりとした安定感があり、平らな厚い底が施されています。グラスの側面には「CRAFT BEER MARKET」のロゴが印刷されており、カジュアルな雰囲気を演出しています。',\n",
       " '../images/UKパイント.png': 'このグラスは、UKスタイルのパイントグラスで、主にビールやサイダーを提供するために使用されます。特徴的な形状は、底部がしっかりとした平らな部分から始まり、上部に向かって徐々に広がり、ふっくらとした輪郭を持っています。透明なガラス素材により、中身がよく見え、飲み物の色や泡立ちを楽しむことができます。デザインはシンプルで、カジュアルな雰囲気を演出し、親しみやすい印象を与えます。',\n",
       " '../images/ヴァイツェングラス.png': 'このグラスは、ヴァイツェングラスと呼ばれる特有の形状をしています。上部は広がり、口が大きく開いているのが特徴です。中間部分は細く絞られており、底はしっかりとした台座になっています。透明なガラス素材で、内側に施された細かな凹凸が飲み物の泡立ちを促進します。全体的に優雅で洗練されたデザインで、主にビールを楽しむために使用されることが多いです。'}"
      ]
     },
     "execution_count": 15,
     "metadata": {},
     "output_type": "execute_result"
    }
   ],
   "source": [
    "responses_grass"
   ]
  },
  {
   "cell_type": "markdown",
   "id": "aaa04671-85cf-4437-a538-24e6bdfd1afc",
   "metadata": {},
   "source": [
    "### カプラー"
   ]
  },
  {
   "cell_type": "code",
   "execution_count": 19,
   "id": "e3c6ddee-9436-4125-9074-0b90324962b9",
   "metadata": {},
   "outputs": [
    {
     "name": "stdout",
     "output_type": "stream",
     "text": [
      ">>>>>  ../images/STNDARD_FAUCET.png\n",
      ">>>>>  ../images/FROW_CONTROL_FAUCET.png\n",
      ">>>>>  ../images/STOUT_FAUCET.png\n",
      "CPU times: user 31.4 ms, sys: 6.17 ms, total: 37.5 ms\n",
      "Wall time: 11.8 s\n"
     ]
    }
   ],
   "source": [
    "%%time\n",
    "\n",
    "responses_kap = {}\n",
    "\n",
    "vision_model = \"gpt-4o-mini\"\n",
    "\n",
    "prompt = '''\n",
    "カプラー（ケグとビアラインを繋ぐ器具）の画像が入力されます。写っているカプラーの形状を文章等参考にしながら100トークン程度で詳しく述べてください。\n",
    "'''\n",
    "\n",
    "# Function to encode the image\n",
    "def encode_image(image_path):\n",
    "    with open(image_path, \"rb\") as image_file:\n",
    "        return base64.b64encode(image_file.read()).decode(\"utf-8\")\n",
    "\n",
    "for img in img_kap:\n",
    "    img = image_dir + '/' + img\n",
    "    print('>>>>> ', img)\n",
    "    \n",
    "    # Path to your image\n",
    "    image_path = os.path.join(image_dir, img)\n",
    "    \n",
    "    # Getting the base64 string\n",
    "    base64_image = encode_image(image_path)\n",
    "    #print(type(base64_image), len(base64_image))\n",
    "\n",
    "    response = client.chat.completions.create(\n",
    "        model=vision_model,\n",
    "        messages=[\n",
    "            {\n",
    "                \"role\": \"user\",\n",
    "                \"content\": [\n",
    "                    {\n",
    "                        \"type\": \"text\",\n",
    "                        \"text\": prompt,\n",
    "                    },\n",
    "                    {\n",
    "                        \"type\": \"image_url\",\n",
    "                        \"image_url\": {\"url\": f\"data:image/jpeg;base64,{base64_image}\"},\n",
    "                    },\n",
    "                ],\n",
    "            }\n",
    "        ],\n",
    "    )\n",
    "    responses_kap[img] = response.choices[0].message.content"
   ]
  },
  {
   "cell_type": "code",
   "execution_count": 18,
   "id": "c41c20b1-6897-4cfe-89e5-772ccde53a45",
   "metadata": {},
   "outputs": [
    {
     "data": {
      "text/plain": [
       "{'../images/Sカプラー.png': 'この画像に写っているカプラーは「Sカプラー」と呼ばれ、主にケグとビアラインを接続するための器具です。形状は、上部にハンドルがあり、操作しやすいデザインが特徴です。また、口径の特定が重要で、ハンドルでの判断ではなく、口径を基に見分けることが強調されています。下部には接続部分があり、一般的に使用されるアサヒ、サッポロ、サントリー系に対応しています。全体的に金属製で、耐久性が高いです。',\n",
       " '../images/Dカプラー.png': 'この画像に映っているDカプラーは、主に海外ビールに使用される接続器具です。カプラーは、金属とプラスチックの組み合わせで構成されており、上部にハンドルがあり、操作によって接続や切断が可能です。下部には円形の接続部があり、ビアラインとケグを確実に接続します。口径が確認できるデザインで、適切なサイズを選定することが強調されています。全体として、耐久性のある材料で製造されており、ビールの流れをスムーズに保つ役割を果たします。',\n",
       " '../images/Gカプラー.png': 'Gカプラーは、ビールの樽（ケグ）とビアラインを接続するための重要な器具です。このカプラーは、金属製の体に、栓を開けるためのレバーが付いており、操作が簡単です。カプラーの先端には、接続用のホースが結合できる口があり、その周囲にはしっかりとしたシールが施されています。カプラー内部には、液体が流れるための通路があり、飲料の供給がスムーズに行われる構造になっています。使用例としては、キリン系やヤッホーブルーイング、大山Gビールなどで一般的に用いられています。',\n",
       " '../images/KEY-KEGカプラー.png': 'このカプラーは、主に海外ビール用に設計された「KEY-KEG」タイプです。全体的に金属製の構造を持ち、耐久性と信頼性があります。上部には操作ハンドルがあり、簡単に接続や解除が可能です。下部には接続部があり、ホースやビアラインとしっかりと結合されます。内部には特殊なディスクがあり、ビールの流れを円滑に保つ役割を果たしています。口径の設計も考慮されており、特にウイスキーや他の飲料に適しています。このカプラーは、機能性とユーザビリティを両立させた設計となっています。',\n",
       " '../images/Aカプラー.png': 'この画像に写っているカプラーは、主にビールサーバーに用いられる器具です。構造は金属製のベースがあり、そこからいくつかのプラスチック製パーツが接続されています。カプラーの上部にはレバーがあり、これを操作することで中のバルブを開閉し、ビールを流すことが可能です。口径部分は円形で、中心にゴム製のシールが配置されています。このシールによって、ビールが漏れずに接続できるようになっています。また、口径周辺には取り付け用のネジ部分があり、特定のケグにしっかりと固定できます。全体的に、コンパクトで操作しやすいデザインが特徴です。'}"
      ]
     },
     "execution_count": 18,
     "metadata": {},
     "output_type": "execute_result"
    }
   ],
   "source": [
    "responses_kap"
   ]
  },
  {
   "cell_type": "markdown",
   "id": "6e270a99-97a9-40e7-9496-98668014a42f",
   "metadata": {},
   "source": [
    "###　FAUCET"
   ]
  },
  {
   "cell_type": "code",
   "execution_count": 22,
   "id": "23809fbb-ee68-4830-9c5d-10a153d5e4a4",
   "metadata": {},
   "outputs": [
    {
     "name": "stdout",
     "output_type": "stream",
     "text": [
      ">>>>>  ../images/STNDARD_FAUCET.png\n",
      ">>>>>  ../images/FROW_CONTROL_FAUCET.png\n",
      ">>>>>  ../images/STOUT_FAUCET.png\n",
      "CPU times: user 28.2 ms, sys: 6.28 ms, total: 34.5 ms\n",
      "Wall time: 11.4 s\n"
     ]
    }
   ],
   "source": [
    "%%time\n",
    "\n",
    "responses_faucet = {}\n",
    "\n",
    "vision_model = \"gpt-4o-mini\"\n",
    "\n",
    "prompt = '''\n",
    "Faucet/フォーセット（ビールを注ぐ蛇口）の画像が入力されます。写っているFaucetの形状を50トークン程度で詳しく述べてください。\n",
    "'''\n",
    "\n",
    "# Function to encode the image\n",
    "def encode_image(image_path):\n",
    "    with open(image_path, \"rb\") as image_file:\n",
    "        return base64.b64encode(image_file.read()).decode(\"utf-8\")\n",
    "\n",
    "for img in img_faucet:\n",
    "    img = image_dir + '/' + img\n",
    "    print('>>>>> ', img)\n",
    "    \n",
    "    # Path to your image\n",
    "    image_path = os.path.join(image_dir, img)\n",
    "    \n",
    "    # Getting the base64 string\n",
    "    base64_image = encode_image(image_path)\n",
    "    #print(type(base64_image), len(base64_image))\n",
    "\n",
    "    response = client.chat.completions.create(\n",
    "        model=vision_model,\n",
    "        messages=[\n",
    "            {\n",
    "                \"role\": \"user\",\n",
    "                \"content\": [\n",
    "                    {\n",
    "                        \"type\": \"text\",\n",
    "                        \"text\": prompt,\n",
    "                    },\n",
    "                    {\n",
    "                        \"type\": \"image_url\",\n",
    "                        \"image_url\": {\"url\": f\"data:image/jpeg;base64,{base64_image}\"},\n",
    "                    },\n",
    "                ],\n",
    "            }\n",
    "        ],\n",
    "    )\n",
    "    responses_faucet[img] = response.choices[0].message.content"
   ]
  },
  {
   "cell_type": "code",
   "execution_count": 23,
   "id": "e5965422-8dfd-49ef-92cc-f4ed608c779d",
   "metadata": {},
   "outputs": [
    {
     "data": {
      "text/plain": [
       "{'../images/STNDARD_FAUCET.png': 'このフォーセットは、金属製の光沢あるデザインが特徴で、上部には調整用のハンドルがあります。底部は蛇口の先端に向かってカーブしており、泡立たないようにビールを注ぎやすい構造になっています。取り付け部分はスレッド形状で、他の機器に接続可能です。全体的にシンプルで機能的な形状です。',\n",
       " '../images/FROW_CONTROL_FAUCET.png': 'このフォーセットは、金属製で光沢のある仕上げが特徴です。上部にはネジがあり、取り付け部分が見えます。横には流量調整のレバーがあり、必要に応じてビールの流れを細かく調整できます。全体的に直線的なデザインで、機能的かつシンプルな形状です。',\n",
       " '../images/STOUT_FAUCET.png': 'このフォーセットは、スタウト用のビール蛇口で、金属製の光沢のあるデザインが特徴です。上部には注ぎ口があり、細長くスリムな形状をしています。また、蛇口の下部にはホース接続のための口があり、操作するためのレバーも備わっています。全体的にモダンな印象を与えるエレガントなフォルムです。'}"
      ]
     },
     "execution_count": 23,
     "metadata": {},
     "output_type": "execute_result"
    }
   ],
   "source": [
    "responses_faucet"
   ]
  },
  {
   "cell_type": "code",
   "execution_count": null,
   "id": "b3b03bb3-2e0c-412f-a43f-7cb864a4ca8d",
   "metadata": {},
   "outputs": [],
   "source": []
  }
 ],
 "metadata": {
  "kernelspec": {
   "display_name": "Python 3 (ipykernel)",
   "language": "python",
   "name": "python3"
  },
  "language_info": {
   "codemirror_mode": {
    "name": "ipython",
    "version": 3
   },
   "file_extension": ".py",
   "mimetype": "text/x-python",
   "name": "python",
   "nbconvert_exporter": "python",
   "pygments_lexer": "ipython3",
   "version": "3.10.14"
  }
 },
 "nbformat": 4,
 "nbformat_minor": 5
}
