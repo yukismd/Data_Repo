{
 "cells": [
  {
   "cell_type": "markdown",
   "id": "83b727d7-20d0-41b7-83f1-c6132fc34431",
   "metadata": {},
   "source": [
    "# フェイク記事の作成\n",
    "元記事: [Wikipedia - One Piece](https://ja.wikipedia.org/wiki/ONE_PIECE). 2024/12/15 時点  \n",
    "人物等の名前を置き換え、フェイク記事を作成する"
   ]
  },
  {
   "cell_type": "code",
   "execution_count": 18,
   "id": "a4bcd01c-b1a2-4e04-96bf-54801004afd0",
   "metadata": {},
   "outputs": [
    {
     "name": "stdout",
     "output_type": "stream",
     "text": [
      "name_list.csv         onepiece_20241215.txt questions.csv\n"
     ]
    }
   ],
   "source": [
    "!ls input"
   ]
  },
  {
   "cell_type": "markdown",
   "id": "9618125f-c6ad-439c-8ab9-fa43fb50ffce",
   "metadata": {},
   "source": [
    "#### Input\n",
    "- txtにコピーした元記事（onepiece_20241215.txt）\n",
    "- 名前の置き換えシート（name_list.csv）"
   ]
  },
  {
   "cell_type": "code",
   "execution_count": 5,
   "id": "0d5e5f4e-dc5b-4815-b8c4-f79c4e0863a4",
   "metadata": {},
   "outputs": [],
   "source": [
    "import pandas as pd\n",
    "import numpy as np\n",
    "import re"
   ]
  },
  {
   "cell_type": "code",
   "execution_count": 6,
   "id": "ff3b8c1d-a310-4d38-9df0-6b7a50eb46a7",
   "metadata": {},
   "outputs": [],
   "source": [
    "with open(\"input/onepiece_20241215.txt\", \"r\", encoding=\"utf-8\") as file:\n",
    "    text_file = file.read()"
   ]
  },
  {
   "cell_type": "code",
   "execution_count": 10,
   "id": "647169a3-1ad5-4d4b-a42b-01cbe407c22c",
   "metadata": {},
   "outputs": [
    {
     "name": "stdout",
     "output_type": "stream",
     "text": [
      "\n",
      "# ONE PIECE\n",
      "\n",
      "『ONE PIECE』（ワンピース）は、尾田栄一郎による日本の少年漫画作品。『週刊少年ジャンプ』（集英社）にて1997年34号から連載中。略称は「ワンピ」[2]。\n",
      "\n",
      "\n",
      "| 項目         | 詳細                                           |\n",
      "|--------------|----------------------------------------------|\n",
      "| 作者         | 尾田栄一郎                                   |\n",
      "| 出版社       | 集英社                                       |\n",
      "| その他の出版社 |                                             |\n",
      "| 掲載誌       | 週刊少年ジャンプ                              |\n",
      "| レーベル     | ジャンプ・コミックス                           |\n",
      "| 発表号       | 1997年34号 -                                |\n",
      "| 発表期間     | 1997年7月22日[1] -                           |\n",
      "| 巻数         | 既刊110巻（2024年11月1日現在）                 |\n",
      "| ジャンル       | 少年漫画・海賊・冒険ファンタジー・バトル         |\n",
      "\n",
      "\n",
      "## 概要\n",
      "\n",
      "海賊王を夢見る少年モンキー・D・ルフィを主人公とする、「ひとつなぎの大秘宝（ワンピース）」を巡る海洋冒険ロマン。\n",
      "夢への冒険・仲間たちとの友情といったテーマを前面に掲げ、バトルやギャグシーン、感動エピソードをメインとする少年漫画の王道を行く物語として人気を博している[3]。また、長年にわたりながら深く練り込まれた壮大な世界観・巧緻な設定のストーリーも特徴。\n",
      "2024年11月の時点で単行本は第110巻まで刊行されており、『週刊少年ジャンプ』歴代作品の中では『こちら葛飾区亀有公園前派出所』（1976年 - 2016年）に次ぐ長期連載となっている\n"
     ]
    }
   ],
   "source": [
    "print(text_file[:1000])"
   ]
  },
  {
   "cell_type": "code",
   "execution_count": 11,
   "id": "5a709ca1-ffd3-4706-840a-08eb95431e69",
   "metadata": {},
   "outputs": [
    {
     "name": "stdout",
     "output_type": "stream",
     "text": [
      "(77, 4)\n"
     ]
    },
    {
     "data": {
      "text/html": [
       "<div>\n",
       "<style scoped>\n",
       "    .dataframe tbody tr th:only-of-type {\n",
       "        vertical-align: middle;\n",
       "    }\n",
       "\n",
       "    .dataframe tbody tr th {\n",
       "        vertical-align: top;\n",
       "    }\n",
       "\n",
       "    .dataframe thead th {\n",
       "        text-align: right;\n",
       "    }\n",
       "</style>\n",
       "<table border=\"1\" class=\"dataframe\">\n",
       "  <thead>\n",
       "    <tr style=\"text-align: right;\">\n",
       "      <th></th>\n",
       "      <th>Category</th>\n",
       "      <th>Full_Name</th>\n",
       "      <th>Short_Name</th>\n",
       "      <th>Fake_Name</th>\n",
       "    </tr>\n",
       "  </thead>\n",
       "  <tbody>\n",
       "    <tr>\n",
       "      <th>0</th>\n",
       "      <td>Character</td>\n",
       "      <td>モンキー・D・ルフィ</td>\n",
       "      <td>ルフィ</td>\n",
       "      <td>アルフィー</td>\n",
       "    </tr>\n",
       "    <tr>\n",
       "      <th>1</th>\n",
       "      <td>Character</td>\n",
       "      <td>ロロノア・ゾロ</td>\n",
       "      <td>ゾロ</td>\n",
       "      <td>ロロゾ</td>\n",
       "    </tr>\n",
       "    <tr>\n",
       "      <th>2</th>\n",
       "      <td>Character</td>\n",
       "      <td>ナミ</td>\n",
       "      <td></td>\n",
       "      <td>ミーナ</td>\n",
       "    </tr>\n",
       "    <tr>\n",
       "      <th>3</th>\n",
       "      <td>Character</td>\n",
       "      <td>ウソップ</td>\n",
       "      <td></td>\n",
       "      <td>ウップソン</td>\n",
       "    </tr>\n",
       "    <tr>\n",
       "      <th>4</th>\n",
       "      <td>Character</td>\n",
       "      <td>サンジ</td>\n",
       "      <td></td>\n",
       "      <td>ゴゴサンジ</td>\n",
       "    </tr>\n",
       "  </tbody>\n",
       "</table>\n",
       "</div>"
      ],
      "text/plain": [
       "    Category   Full_Name Short_Name Fake_Name\n",
       "0  Character  モンキー・D・ルフィ        ルフィ     アルフィー\n",
       "1  Character     ロロノア・ゾロ         ゾロ       ロロゾ\n",
       "2  Character          ナミ                  ミーナ\n",
       "3  Character        ウソップ                ウップソン\n",
       "4  Character         サンジ                ゴゴサンジ"
      ]
     },
     "execution_count": 11,
     "metadata": {},
     "output_type": "execute_result"
    }
   ],
   "source": [
    "df_name = pd.read_csv('input/name_list.csv')\n",
    "print(df_name.shape)\n",
    "df_name = df_name.fillna('')\n",
    "df_name.head()"
   ]
  },
  {
   "cell_type": "code",
   "execution_count": 13,
   "id": "97a4980d-66db-43e6-b840-03501fa9ee59",
   "metadata": {},
   "outputs": [],
   "source": [
    "rep = []\n",
    "for _,r in df_name.iterrows():\n",
    "    if r['Short_Name']!='':\n",
    "        rep.append((r['Full_Name']+'|'+r['Short_Name'], r['Fake_Name']))\n",
    "    else:\n",
    "        rep.append((r['Full_Name'], r['Fake_Name']))\n",
    "\n",
    "text_file_new = text_file\n",
    "\n",
    "for old_string, new_string in rep:\n",
    "    text_file_new = re.sub(old_string, new_string, text_file_new)"
   ]
  },
  {
   "cell_type": "code",
   "execution_count": 20,
   "id": "a85359d5-a8a1-4489-8005-f87423d04917",
   "metadata": {
    "scrolled": true
   },
   "outputs": [],
   "source": [
    "#rep"
   ]
  },
  {
   "cell_type": "code",
   "execution_count": 15,
   "id": "0f9dfeab-5dc6-45ad-9124-004cf41dae14",
   "metadata": {
    "scrolled": true
   },
   "outputs": [],
   "source": [
    "#text_file_new"
   ]
  },
  {
   "cell_type": "code",
   "execution_count": 16,
   "id": "c35f8537-25dd-4f80-aa4b-5b4dafa4860c",
   "metadata": {},
   "outputs": [
    {
     "name": "stdout",
     "output_type": "stream",
     "text": [
      "\n",
      "# FAKE PEACE\n",
      "\n",
      "『FAKE PEACE』（フェイクピース）は、田尾宗一郎による日本の少年漫画作品。『週刊少年ステップ』（集英社）にて1997年34号から連載中。略称は「フェイピ」[2]。\n",
      "\n",
      "\n",
      "| 項目         | 詳細                                           |\n",
      "|--------------|----------------------------------------------|\n",
      "| 作者         | 田尾宗一郎                                   |\n",
      "| 出版社       | 集英社                                       |\n",
      "| その他の出版社 |                                             |\n",
      "| 掲載誌       | 週刊少年ステップ                              |\n",
      "| レーベル     | ステップ・コミックス                           |\n",
      "| 発表号       | 1997年34号 -                                |\n",
      "| 発表期間     | 1997年7月22日[1] -                           |\n",
      "| 巻数         | 既刊110巻（2024年11月1日現在）                 |\n",
      "| ジャンル       | 少年漫画・海賊・冒険ファンタジー・バトル         |\n",
      "\n",
      "\n",
      "## 概要\n",
      "\n",
      "海賊王を夢見る少年アルフィーを主人公とする、「偽の大秘宝（フェイクピース）」を巡る海洋冒険ロマン。\n",
      "夢への冒険・仲間たちとの友情といったテーマを前面に掲げ、バトルやギャグシーン、感動エピソードをメインとする少年漫画の王道を行く物語として人気を博している[3]。また、長年にわたりながら深く練り込まれた壮大な世界観・巧緻な設定のストーリーも特徴。\n",
      "2024年11月の時点で単行本は第110巻まで刊行されており、『週刊少年ステップ』歴代作品の中では『こちら葛飾区亀有公園前派出所』（1976年 - 2016年）に次ぐ長期連載となっている。国\n"
     ]
    }
   ],
   "source": [
    "print(text_file_new[:1000])"
   ]
  },
  {
   "cell_type": "code",
   "execution_count": 39,
   "id": "7fa4e07a-978a-443b-9d41-b6aa7ddcfb86",
   "metadata": {},
   "outputs": [],
   "source": [
    "with open(\"output/fakepiece_20241215.txt\", \"w\", encoding=\"utf-8\") as file:\n",
    "    file.write(text_file_new)"
   ]
  },
  {
   "cell_type": "code",
   "execution_count": 17,
   "id": "be313eeb-f0d9-4a5b-9fbe-0d58f06a9ed7",
   "metadata": {},
   "outputs": [
    {
     "name": "stdout",
     "output_type": "stream",
     "text": [
      "fakepeace_20241215.txt\n"
     ]
    }
   ],
   "source": [
    "!ls output"
   ]
  },
  {
   "cell_type": "code",
   "execution_count": null,
   "id": "f29c0ebc-8b49-4fa6-acc4-47632e92a579",
   "metadata": {},
   "outputs": [],
   "source": []
  },
  {
   "cell_type": "code",
   "execution_count": 42,
   "id": "d7b99ed8-a5ad-440f-8621-f9f8b27282e2",
   "metadata": {},
   "outputs": [],
   "source": [
    "with open(\"questions.csv\", \"r\", encoding=\"utf-8\") as file:\n",
    "    text_file_q = file.read()"
   ]
  },
  {
   "cell_type": "code",
   "execution_count": 44,
   "id": "a288ba80-ae3c-4b35-ae75-9e9b249906c1",
   "metadata": {},
   "outputs": [
    {
     "name": "stdout",
     "output_type": "stream",
     "text": [
      "﻿question,question_type,contexts,ground_truth\n",
      "One Pieceの作者は？,単純質問,,尾田栄一郎\n",
      "One Pieceのジャンルは？,単純質問,,少年漫画・海賊・冒険ファンタジー・バトル\n",
      "劇場版「ONE PIECE FILM GOLD」が公開された年月日は？,単純質問,\"\"\"- 2016年（平成28年）\n",
      "    - 7月23日 - 劇場版第13作『ONE PIECE FILM GOLD』が公開。\"\"\",2016年7月23日\n",
      "そげキングとは誰のことですか？,単純質問,\"\"\"仮面を被り謎のヒーロー「そげキング」と名乗るウソップの姿もあった。\"\"\",ウソップ\n",
      "「ONE PIECE」と「こちら葛飾区亀有公園前派出所」はどちらの連載期間のほうが長いですか？,比較質問,\"\"\"2024年11月の時点で単行本は第110巻まで刊行されており、『週刊少年ジャンプ』歴代作品の中では『こちら葛飾区亀有公園前派出所』（1976年 - 2016年）に次ぐ長期連載となっている。\"\"\",こちら葛飾区亀有公園前派出所\n",
      "リトルガーデン編とエニエス・ロビー編はどちらが先のストーリーですか？,比較質問,\"\"\"リトルガーデン編（13巻 - 15巻）\"\", \"\"インペルダウン編（54巻 - 56巻）\"\"\",リトルガーデン編\n",
      "チョッパーとブルックはどちらが先に仲間になりましたか？,比較質問,\"\"\"ルフィ達はチョッパーと共闘してワポルを撃退し、船医チョッパーを仲間に迎える。\"\",\"\"戦闘終結後、音楽家ブルックを仲間に加える。\"\"\",チョッパー\n",
      "ルフィは誰の影響を受けて海賊になることを決意しましたか？,推測/条件付き質問,\"\"\"「東の海（イーストブルー）」のフーシャ村に住む少年モンキー・D・ルフィは、村に滞在していた海賊〝赤髪のシャンクス〟と親しくなり、海賊への憧れを募らせる。ある日ルフィは「ゴムゴムの実」という悪魔の実を食べ、一生泳げない体になる代わりに、全身が伸び縮みするゴム人間となった。それからしばらくして、ルフィはシャンクスを貶める山賊たちから怒りを買い、海に投げ込まれてしまう。溺れかけ、巨大魚に食われそうになったルフィを、シャンクスは左腕を犠牲にして助け出した。ルフィは、村を去る間際のシャンクスからトレードマークの麦わら帽子を託され、将来立派な海賊になって再会することを約束する。\"\"\",赤髪のシャンクス\n",
      "ルフィの最初の仲間は誰？,推測/条件付き質問,\"\"\"ゾロを仲間に加えたルフィは\"\"\",ゾロ\n",
      "ルフィの3番目の仲間は誰？,推測/条件付き質問,\"\"\"ルフィは数々の兵器を繰り出すクリークとの激闘を制し、新たに料理人サンジを仲間に加える。\"\"\",サンジ\n",
      "劇場版「ONE PIECE FILM RED」の前に公開された劇場版作品は？,推測/条件付き質問,\"\"\"- 2019年（令和元年）\n",
      "    - 8月9日 - 劇場版第14作『ONE PIECE STAMPEDE』が公開。\"\"\",ONE PIECE STAMPEDE\n",
      "麦わらの一味には何人が所属していますか？,集計,,10\n",
      "シャボンディ諸島編には何個小編がありますか？,集計,\"\"\"女ヶ島編（53巻 - 54巻）\"\", \"\"インペルダウン編（54巻 - 56巻）\"\", \"\"マリンフォード編（56巻 - 61巻）\"\"\",3\n"
     ]
    }
   ],
   "source": [
    "print(text_file_q)"
   ]
  },
  {
   "cell_type": "code",
   "execution_count": 45,
   "id": "ad0df5ad-4a3b-4094-9c01-fccd2e73389a",
   "metadata": {},
   "outputs": [],
   "source": [
    "text_file_q_new = text_file_q\n",
    "\n",
    "for old_string, new_string in rep:\n",
    "    text_file_q_new = re.sub(old_string, new_string, text_file_q_new)"
   ]
  },
  {
   "cell_type": "code",
   "execution_count": 46,
   "id": "c16a0973-5665-4686-b122-714b5b187792",
   "metadata": {},
   "outputs": [],
   "source": [
    "with open(\"questions_fake.csv\", \"w\", encoding=\"utf-8\") as file:\n",
    "    file.write(text_file_q_new)"
   ]
  },
  {
   "cell_type": "code",
   "execution_count": null,
   "id": "5fa3cb2f-f9d4-420c-8402-f1f384cc65f1",
   "metadata": {},
   "outputs": [],
   "source": []
  }
 ],
 "metadata": {
  "kernelspec": {
   "display_name": "Python 3 (ipykernel)",
   "language": "python",
   "name": "python3"
  },
  "language_info": {
   "codemirror_mode": {
    "name": "ipython",
    "version": 3
   },
   "file_extension": ".py",
   "mimetype": "text/x-python",
   "name": "python",
   "nbconvert_exporter": "python",
   "pygments_lexer": "ipython3",
   "version": "3.10.14"
  }
 },
 "nbformat": 4,
 "nbformat_minor": 5
}
