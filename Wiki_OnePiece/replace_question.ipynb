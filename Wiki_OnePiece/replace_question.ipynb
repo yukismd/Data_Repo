{
 "cells": [
  {
   "cell_type": "markdown",
   "id": "d16be3bc-48c4-4fd2-a9e2-72f88d31e213",
   "metadata": {},
   "source": [
    "# 質問シートの置き換え\n",
    "RAG用の質問（questions.csv）を偽の名前に置き換える"
   ]
  },
  {
   "cell_type": "code",
   "execution_count": 4,
   "id": "e78b1cfe-4299-4ace-ad7e-dd0f2825c5bb",
   "metadata": {},
   "outputs": [
    {
     "name": "stdout",
     "output_type": "stream",
     "text": [
      "name_list.csv         onepiece_20241215.txt questions.csv\n"
     ]
    }
   ],
   "source": [
    "!ls input"
   ]
  },
  {
   "cell_type": "markdown",
   "id": "e85b2783-9086-4f8a-8b87-eea784ee3ffa",
   "metadata": {},
   "source": [
    "#### Input\n",
    "- txtにコピーした元記事（questions.csv）\n",
    "- 名前の置き換えシート（name_list.csv）"
   ]
  },
  {
   "cell_type": "code",
   "execution_count": 11,
   "id": "5821a84c-95b6-4243-96a9-ee9c5c1db87d",
   "metadata": {},
   "outputs": [],
   "source": [
    "import pandas as pd\n",
    "import numpy as np\n",
    "import re"
   ]
  },
  {
   "cell_type": "code",
   "execution_count": 6,
   "id": "58485ae5-d4c7-46b8-a15f-65d04e430078",
   "metadata": {},
   "outputs": [],
   "source": [
    "with open(\"input/questions.csv\", \"r\", encoding=\"utf-8\") as file:\n",
    "    text_file_q = file.read()"
   ]
  },
  {
   "cell_type": "code",
   "execution_count": 7,
   "id": "ce7bd3a9-c7b7-4a3a-8a90-a2a0ed2993b3",
   "metadata": {},
   "outputs": [
    {
     "name": "stdout",
     "output_type": "stream",
     "text": [
      "﻿question,question_type,contexts,ground_truth\n",
      "One Pieceの作者は？,単純質問,,尾田栄一郎\n",
      "One Pieceのジャンルは？,単純質問,,少年漫画・海賊・冒険ファンタジー・バトル\n",
      "劇場版「ONE PIECE FILM GOLD」が公開された年月日は？,単純質問,\"\"\"- 2016年（平成28年）\n",
      "    - 7月23日 - 劇場版第13作『ONE PIECE FILM GOLD』が公開。\"\"\",2016年7月23日\n",
      "そげキングとは誰のことですか？,単純質問,\"\"\"仮面を被り謎のヒーロー「そげキング」と名乗るウソップの姿もあった。\"\"\",ウソップ\n",
      "「ONE PIECE」と「こちら葛飾区亀有公園前派出所」はどちらの連載期間のほうが長いですか？,比較質問,\"\"\"2024年11月の時点で単行本は第110巻まで刊行されており、『週刊少年ジャンプ』歴代作品の中では『こちら葛飾区亀有公園前派出所』（1976年 - 2016年）に次ぐ長期連載となっている。\"\"\",こちら葛飾区亀有公園前派出所\n",
      "リトルガーデン編とエニエス・ロビー編はどちらが先のストーリーですか？,比較質問,\"\"\"リトルガーデン編（13巻 - 15巻）\"\", \"\"エニエス・ロビー編（39巻 - 46巻）\"\"\",リトルガーデン編\n",
      "チョッパーとブルックはどちらが先に仲間になりましたか？,比較質問,\"\"\"ルフィ達はチョッパーと共闘してワポルを撃退し、船医チョッパーを仲間に迎える。\"\",\"\"戦闘終結後、音楽家ブルックを仲間に加える。\"\"\",チョッパー\n",
      "ルフィは誰の影響を受けて海賊になることを決意しましたか？,推測/条件付き質問,\"\"\"「東の海（イーストブルー）」のフーシャ村に住む少年モンキー・D・ルフィは、村に滞在していた海賊〝赤髪のシャンクス〟と親しくなり、海賊への憧れを募らせる。ある日ルフィは「ゴムゴムの実」という悪魔の実を食べ、一生泳げない体になる代わりに、全身が伸び縮みするゴム人間となった。それからしばらくして、ルフィはシャンクスを貶める山賊たちから怒りを買い、海に投げ込まれてしまう。溺れかけ、巨大魚に食われそうになったルフィを、シャンクスは左腕を犠牲にして助け出した。ルフィは、村を去る間際のシャンクスからトレードマークの麦わら帽子を託され、将来立派な海賊になって再会することを約束する。\"\"\",赤髪のシャンクス\n",
      "ルフィの最初の仲間は誰？,推測/条件付き質問,\"\"\"ゾロを仲間に加えたルフィは\"\"\",ゾロ\n",
      "ルフィの3番目の仲間は誰？,推測/条件付き質問,\"\"\"ルフィは数々の兵器を繰り出すクリークとの激闘を制し、新たに料理人サンジを仲間に加える。\"\"\",サンジ\n",
      "劇場版「ONE PIECE FILM RED」の前に公開された劇場版作品は？,推測/条件付き質問,\"\"\"- 2019年（令和元年）\n",
      "    - 8月9日 - 劇場版第14作『ONE PIECE STAMPEDE』が公開。\"\"\",ONE PIECE STAMPEDE\n",
      "麦わらの一味には何人が所属していますか？,集計,,10\n",
      "頂上戦争編には何個小編がありますか？,集計,\"\"\"シャボンディ諸島編（50巻 - 53巻）\"\", \"\"女ヶ島編（53巻 - 54巻）\"\", \"\"インペルダウン編（54巻 - 56巻）\"\", \"\"マリンフォード編（56巻 - 61巻）\"\"\",4\n"
     ]
    }
   ],
   "source": [
    "print(text_file_q)"
   ]
  },
  {
   "cell_type": "code",
   "execution_count": 12,
   "id": "08fd87df-e7a3-4b4b-8d59-74312842602f",
   "metadata": {},
   "outputs": [
    {
     "name": "stdout",
     "output_type": "stream",
     "text": [
      "(77, 4)\n"
     ]
    },
    {
     "data": {
      "text/html": [
       "<div>\n",
       "<style scoped>\n",
       "    .dataframe tbody tr th:only-of-type {\n",
       "        vertical-align: middle;\n",
       "    }\n",
       "\n",
       "    .dataframe tbody tr th {\n",
       "        vertical-align: top;\n",
       "    }\n",
       "\n",
       "    .dataframe thead th {\n",
       "        text-align: right;\n",
       "    }\n",
       "</style>\n",
       "<table border=\"1\" class=\"dataframe\">\n",
       "  <thead>\n",
       "    <tr style=\"text-align: right;\">\n",
       "      <th></th>\n",
       "      <th>Category</th>\n",
       "      <th>Full_Name</th>\n",
       "      <th>Short_Name</th>\n",
       "      <th>Fake_Name</th>\n",
       "    </tr>\n",
       "  </thead>\n",
       "  <tbody>\n",
       "    <tr>\n",
       "      <th>0</th>\n",
       "      <td>Character</td>\n",
       "      <td>モンキー・D・ルフィ</td>\n",
       "      <td>ルフィ</td>\n",
       "      <td>アルフィー</td>\n",
       "    </tr>\n",
       "    <tr>\n",
       "      <th>1</th>\n",
       "      <td>Character</td>\n",
       "      <td>ロロノア・ゾロ</td>\n",
       "      <td>ゾロ</td>\n",
       "      <td>ロロゾ</td>\n",
       "    </tr>\n",
       "    <tr>\n",
       "      <th>2</th>\n",
       "      <td>Character</td>\n",
       "      <td>ナミ</td>\n",
       "      <td></td>\n",
       "      <td>ミーナ</td>\n",
       "    </tr>\n",
       "    <tr>\n",
       "      <th>3</th>\n",
       "      <td>Character</td>\n",
       "      <td>ウソップ</td>\n",
       "      <td></td>\n",
       "      <td>ウップソン</td>\n",
       "    </tr>\n",
       "    <tr>\n",
       "      <th>4</th>\n",
       "      <td>Character</td>\n",
       "      <td>サンジ</td>\n",
       "      <td></td>\n",
       "      <td>ゴゴサンジ</td>\n",
       "    </tr>\n",
       "  </tbody>\n",
       "</table>\n",
       "</div>"
      ],
      "text/plain": [
       "    Category   Full_Name Short_Name Fake_Name\n",
       "0  Character  モンキー・D・ルフィ        ルフィ     アルフィー\n",
       "1  Character     ロロノア・ゾロ         ゾロ       ロロゾ\n",
       "2  Character          ナミ                  ミーナ\n",
       "3  Character        ウソップ                ウップソン\n",
       "4  Character         サンジ                ゴゴサンジ"
      ]
     },
     "execution_count": 12,
     "metadata": {},
     "output_type": "execute_result"
    }
   ],
   "source": [
    "df_name = pd.read_csv('input/name_list.csv')\n",
    "print(df_name.shape)\n",
    "df_name = df_name.fillna('')\n",
    "df_name.head()"
   ]
  },
  {
   "cell_type": "code",
   "execution_count": 13,
   "id": "9bf44e23-5229-496f-a655-866cfa3c541d",
   "metadata": {},
   "outputs": [],
   "source": [
    "rep = []\n",
    "for _,r in df_name.iterrows():\n",
    "    if r['Short_Name']!='':\n",
    "        rep.append((r['Full_Name']+'|'+r['Short_Name'], r['Fake_Name']))\n",
    "    else:\n",
    "        rep.append((r['Full_Name'], r['Fake_Name']))\n",
    "\n",
    "text_file_q_new = text_file_q\n",
    "\n",
    "for old_string, new_string in rep:\n",
    "    text_file_q_new = re.sub(old_string, new_string, text_file_q_new)"
   ]
  },
  {
   "cell_type": "code",
   "execution_count": 14,
   "id": "51b6bc3f-c175-4350-aba0-55c5bad403a3",
   "metadata": {},
   "outputs": [],
   "source": [
    "with open(\"output/questions_fake.csv\", \"w\", encoding=\"utf-8\") as file:\n",
    "    file.write(text_file_q_new)"
   ]
  },
  {
   "cell_type": "code",
   "execution_count": 15,
   "id": "99531cc1-7b87-42f3-82bf-c72d6ae46612",
   "metadata": {},
   "outputs": [
    {
     "name": "stdout",
     "output_type": "stream",
     "text": [
      "fakepeace_20241215.txt questions_fake.csv\n"
     ]
    }
   ],
   "source": [
    "!ls output"
   ]
  },
  {
   "cell_type": "code",
   "execution_count": null,
   "id": "d3cf780b-83b0-4bb6-8ef7-a39fba297132",
   "metadata": {},
   "outputs": [],
   "source": []
  }
 ],
 "metadata": {
  "kernelspec": {
   "display_name": "Python 3 (ipykernel)",
   "language": "python",
   "name": "python3"
  },
  "language_info": {
   "codemirror_mode": {
    "name": "ipython",
    "version": 3
   },
   "file_extension": ".py",
   "mimetype": "text/x-python",
   "name": "python",
   "nbconvert_exporter": "python",
   "pygments_lexer": "ipython3",
   "version": "3.10.14"
  }
 },
 "nbformat": 4,
 "nbformat_minor": 5
}
